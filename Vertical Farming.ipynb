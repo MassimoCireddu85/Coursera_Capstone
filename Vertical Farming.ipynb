{
 "cells": [
  {
   "cell_type": "markdown",
   "metadata": {},
   "source": [
    "<h1>Introduction/Business Problem</h1>\n",
    "\n",
    "<h4>Recent years trends and market conjunctions are increasingly provoking technological advancements in the agriculture industry. \n",
    "Growing population in urban areas and scarcity of free soil for crop farming together with the marginal cost advantage of robotics and automation which is now more affordable also for small enterprises, led to the development of new farming techniques such as vertical farming, rooftop farming and hydropronics.\n",
    "Aim of this project is to explore suitable locations to start a vertical farming business in the city of Rome.</h4>\n",
    "\n",
    "To know more about vertical farming --> <https://en.wikipedia.org/wiki/Vertical_farming>\n",
    "\n",
    "<h3>Quick Facts:</p></h3>\n",
    "<h4>1- Topic trends. Growing trend of \"Vertical Farming\" topic worldwide based on Google trend source</h4>\n",
    "    \n",
    "  ![alt text](google_trend.png \"vertical farming trend\") \n",
    "  \n",
    "\n",
    "  \n",
    "<h4>2- Urbanization rate. Growing number of People living in urban areas </h4>   \n",
    "    \n",
    "  ![alt text](urban_population.png \"urbanization rate\") \n",
    "  \n",
    " \n",
    "Source Worldbank --> <https://data.worldbank.org/topic/urban-development>\n",
    " \n",
    " \n",
    "<h4>3- Space availability. According to the website https://romabbandonata.org/ , Rome has several abandoned public facilities that can be suitable for requalification or different reutilization</h4>   \n",
    " \n",
    "    \n",
    "  ![alt text](proprieta_pubbliche_roma.png \"proprieta abbandonate\") \n"
   ]
  }
 ],
 "metadata": {
  "kernelspec": {
   "display_name": "Python 3",
   "language": "python",
   "name": "python3"
  },
  "language_info": {
   "codemirror_mode": {
    "name": "ipython",
    "version": 3
   },
   "file_extension": ".py",
   "mimetype": "text/x-python",
   "name": "python",
   "nbconvert_exporter": "python",
   "pygments_lexer": "ipython3",
   "version": "3.8.3"
  }
 },
 "nbformat": 4,
 "nbformat_minor": 4
}
