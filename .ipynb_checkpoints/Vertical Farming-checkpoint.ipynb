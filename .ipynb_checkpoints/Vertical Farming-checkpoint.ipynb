{
 "cells": [
  {
   "cell_type": "markdown",
   "metadata": {},
   "source": [
    "<h1>Vertical Farm: the best location in the city of Rome</h1> \n",
    "\n",
    "\n",
    "\n",
    "<h2>Introduction</h2>\n",
    "\n",
    "<h4><b>Background</b><br>Recent years trends and market conjunctions are increasingly provoking technological advancements in the agriculture industry. <br>\n",
    "Growing population in urban areas and scarcity of free soil for crop farming together with the marginal cost advantage of robotics and automation which is now more affordable also for small enterprises, led to the development of new farming techniques such as vertical farming, rooftop farming and hydropronics.<br></p>\n",
    "<b>Interest</b><br>    \n",
    "Aim of this project is to explore suitable locations to start a vertical farming business in the city of Rome. The locations taken into exam will be abandoned public buildings around the city.<br>\n",
    "The target customers will be collateral businesses which may take advantage of the proximity with the farm (see data section). The project seeks also to foster the culture of reutilization of public spaces.</h4>\n",
    "\n",
    "To know more about vertical farming --> <https://en.wikipedia.org/wiki/Vertical_farming>\n",
    "\n",
    "<h3>Quick Facts:<br></h3>\n",
    "<h4>1- Topic trends. Growing trend of \"Vertical Farming\" topic worldwide based on Google trend source</h4>\n",
    "    \n",
    "  ![alt text](google_trend.png \"vertical farming trend\") \n",
    "  \n",
    "\n",
    "  \n",
    "<h4>2- Urbanization rate. Growing number of People living in urban areas </h4>   \n",
    "    \n",
    "  ![alt text](urban_population.png \"urbanization rate\") \n",
    "  \n",
    " \n",
    "Source Worldbank --> <https://data.worldbank.org/topic/urban-development>\n",
    " \n",
    " \n",
    "<h4>3- Space availability. According to the website https://romabbandonata.org/ , Rome has several abandoned public facilities that can be suitable for requalification or different reutilization</h4>   \n",
    " \n",
    "    \n",
    "  ![alt text](proprieta_pubbliche_roma.png \"proprieta abbandonate\") \n"
   ]
  },
  {
   "cell_type": "markdown",
   "metadata": {},
   "source": [
    "<h2>Data</h2>\n",
    "\n",
    "<h4>1- Ad Hoc Rome public facilities Data Frame. Since there is not a public webpage to wrangle the data from, an ad hoc dataframe will be manually setup for the public facilities of the city of Rome.<br> The Data Frame will be containing the following headers: Name, Address, Postal Code, Latitude and Longitude</h4>\n"
   ]
  },
  {
   "cell_type": "code",
   "execution_count": 9,
   "metadata": {},
   "outputs": [
    {
     "name": "stdout",
     "output_type": "stream",
     "text": [
      "         NAME               ADDRESS POSTAL CODE   LATITUDE  LONGITUDE\n",
      "0  I.T. Hertz  Via Grottaferrata 46       00100  41.863672  12.538898\n"
     ]
    }
   ],
   "source": [
    "import pandas as pd\n",
    "\n",
    "d = {'NAME': ['I.T. Hertz'], 'ADDRESS': ['Via Grottaferrata 46'],\n",
    "    'POSTAL CODE': ['00100'], 'LATITUDE': [41.863671742818035], 'LONGITUDE': [12.538897649529316]}\n",
    "\n",
    "df = pd.DataFrame(data=d)\n",
    "\n",
    "print(df)"
   ]
  },
  {
   "cell_type": "markdown",
   "metadata": {},
   "source": [
    "<h4>2- Foursquare location data. Venue informations will be utilized to compare the neighborhoods of the selected locations.<br>\n",
    "    Since a Vertical Farm is a technique that does not foresee a particular open space requirement, collateral businesses, which can be seen as a potential customers, will be examined.<br></p>\n",
    "   Venues such as: Vegan/Vegetarian/Km0 restaurant, Vegetable groceries, Supermarket with organic products will be therefore detected and ranked\n",
    "</h4>"
   ]
  }
 ],
 "metadata": {
  "kernelspec": {
   "display_name": "Python 3",
   "language": "python",
   "name": "python3"
  },
  "language_info": {
   "codemirror_mode": {
    "name": "ipython",
    "version": 3
   },
   "file_extension": ".py",
   "mimetype": "text/x-python",
   "name": "python",
   "nbconvert_exporter": "python",
   "pygments_lexer": "ipython3",
   "version": "3.8.3"
  }
 },
 "nbformat": 4,
 "nbformat_minor": 4
}
